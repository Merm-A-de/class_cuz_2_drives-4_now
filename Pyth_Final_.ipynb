{
  "nbformat": 4,
  "nbformat_minor": 0,
  "metadata": {
    "colab": {
      "name": "Pyth Final .ipynb",
      "provenance": [],
      "collapsed_sections": [],
      "authorship_tag": "ABX9TyNQCd2q5V3SOeRXK4Uc2ogZ",
      "include_colab_link": true
    },
    "kernelspec": {
      "name": "python3",
      "display_name": "Python 3"
    },
    "language_info": {
      "name": "python"
    }
  },
  "cells": [
    {
      "cell_type": "markdown",
      "metadata": {
        "id": "view-in-github",
        "colab_type": "text"
      },
      "source": [
        "<a href=\"https://colab.research.google.com/github/Merm-A-de/class_cuz_2_drives-4_now/blob/main/Pyth_Final_.ipynb\" target=\"_parent\"><img src=\"https://colab.research.google.com/assets/colab-badge.svg\" alt=\"Open In Colab\"/></a>"
      ]
    },
    {
      "cell_type": "code",
      "metadata": {
        "colab": {
          "base_uri": "https://localhost:8080/"
        },
        "id": "Y95FlIejLeou",
        "outputId": "1e1b44ea-fd90-46ad-874b-92c7af7a196d"
      },
      "source": [
        "def nrows(list):\n",
        "\n",
        "  \"\"\"\n",
        "   Input: List of Lists\n",
        "   Output: Integer\n",
        "\n",
        "   Ex. ->\n",
        "\n",
        "  nrows ([[1],[2],[4]]) --> 3\n",
        "  nrows ([[2,3],[2,8]]) --> 2\n",
        " \n",
        " \"\"\"\n",
        "\n",
        "  count = 0\n",
        "\n",
        "  for l in list:\n",
        "    count +=1\n",
        "\n",
        "  return count\n",
        "\n",
        "nrows([[1,2],[2,3],[6,7],[12,2]])"
      ],
      "execution_count": null,
      "outputs": [
        {
          "output_type": "execute_result",
          "data": {
            "text/plain": [
              "4"
            ]
          },
          "metadata": {},
          "execution_count": 6
        }
      ]
    },
    {
      "cell_type": "code",
      "metadata": {
        "id": "WuOaV_OTLsD_",
        "colab": {
          "base_uri": "https://localhost:8080/"
        },
        "outputId": "638e961a-3efe-4faa-fcef-b25490354c7c"
      },
      "source": [
        "\n",
        "def nrows_test():\n",
        "\n",
        "  if nrows([[1,2],[2,3]]) == 2:\n",
        "    print(True)\n",
        "  else:\n",
        "    return(\"Error @ # 1.1\")\n",
        "  if nrows([[1,2],[2,3],[3,5],[3,9]]) == 4:\n",
        "    print(True)\n",
        "  else:\n",
        "    return(\"Error @ # 1.2\")\n",
        "  if nrows([[1,2],[2,3],[3,4]]) == 3:\n",
        "    print(True)\n",
        "  else:\n",
        "    return(\"Error @ # 1.3\")\n",
        "  if nrows([[1,2]]) == 1:\n",
        "    print(True)\n",
        "  else:\n",
        "    return(\"Error @ # 1.4\")\n",
        "  \n",
        "nrows_test()\n",
        "\n",
        "    "
      ],
      "execution_count": 12,
      "outputs": [
        {
          "output_type": "stream",
          "name": "stdout",
          "text": [
            "True\n",
            "True\n",
            "True\n",
            "True\n"
          ]
        }
      ]
    },
    {
      "cell_type": "code",
      "metadata": {
        "colab": {
          "base_uri": "https://localhost:8080/"
        },
        "id": "HE4wLezNPzSH",
        "outputId": "6df0abf8-21d0-4351-9213-1e1e18f0174c"
      },
      "source": [
        "def ncols(lister):\n",
        "\n",
        "  \"\"\"\n",
        "   Input: List of Lists\n",
        "   Output: Integer\n",
        "\n",
        "   Ex. ->\n",
        "\n",
        "  nrows ([[1],[2],[4]]) --> 1\n",
        "  nrows ([[2,3],[2,8]]) --> 2\n",
        " \n",
        " \"\"\"\n",
        "\n",
        "  count = 0\n",
        "\n",
        "  rook = len(lister)\n",
        "\n",
        "  for x in lister:\n",
        "    for i in x:\n",
        "      count += len(str(i))\n",
        "      #count += 1\n",
        "\n",
        "  return count/rook\n",
        "  \n",
        "  #  return colus\n",
        "ncols([[1,6,3],[1,2,3],[2,3,5]])"
      ],
      "execution_count": 89,
      "outputs": [
        {
          "output_type": "execute_result",
          "data": {
            "text/plain": [
              "3.0"
            ]
          },
          "metadata": {},
          "execution_count": 89
        }
      ]
    },
    {
      "cell_type": "code",
      "metadata": {
        "colab": {
          "base_uri": "https://localhost:8080/"
        },
        "id": "IeMJsMVPPzcy",
        "outputId": "ecb22c95-9b3b-4e22-e833-26d7c8efd048"
      },
      "source": [
        "def ncols_test():\n",
        "\n",
        "  if ncols([[1,2],[2,3]]) == 2:\n",
        "    print(True)\n",
        "  else:\n",
        "    return(\"Error @ # 2.1\")\n",
        "  if ncols([[1,2,4],[3,3,9]]) == 3:\n",
        "    print(True)\n",
        "  else:\n",
        "    return(\"Error @ # 2.2\")\n",
        "  if ncols([[3,5,1,2],[3,9,2,3]]) == 4:\n",
        "    print(True)\n",
        "  else:\n",
        "    return(\"Error @ # 2.3\")\n",
        "  if ncols([[2,3,5,1,2],[3,9,2,5,3]]) == 5:\n",
        "    print(True)\n",
        "  else:\n",
        "    return(\"Error @ # 2.4\")\n",
        "\n",
        "\n",
        "  \n",
        "ncols_test()\n",
        "\n",
        "#Hittin a Groove - unfortunately started\n",
        "# late with laptop dead and getting port\n",
        "# keyboard for Ipad, and snapping couple\n",
        "# girls\n",
        "\n",
        "# should be good I think\n"
      ],
      "execution_count": 92,
      "outputs": [
        {
          "output_type": "stream",
          "name": "stdout",
          "text": [
            "True\n",
            "True\n",
            "True\n",
            "True\n"
          ]
        }
      ]
    },
    {
      "cell_type": "code",
      "metadata": {
        "colab": {
          "base_uri": "https://localhost:8080/",
          "height": 161
        },
        "id": "XnM5gjkGPzfk",
        "outputId": "2310943f-7302-424a-f6e2-047f2b217f98"
      },
      "source": [
        "def reduce(matrix, row, col):\n",
        "  \"\"\"\n",
        "\n",
        "\n",
        "  \"\"\"\n",
        "\n",
        "  right = [[1,5,0], [2,3,-4], [1,0,2],\n",
        "           [1,1,-1]])\n",
        "  \n",
        "  left = \n",
        "\n"
      ],
      "execution_count": 76,
      "outputs": [
        {
          "output_type": "error",
          "ename": "SyntaxError",
          "evalue": "ignored",
          "traceback": [
            "\u001b[0;36m  File \u001b[0;32m\"<ipython-input-76-dff926ccc7e1>\"\u001b[0;36m, line \u001b[0;32m3\u001b[0m\n\u001b[0;31m    \u001b[0m\n\u001b[0m    ^\u001b[0m\n\u001b[0;31mSyntaxError\u001b[0m\u001b[0;31m:\u001b[0m unexpected EOF while parsing\n"
          ]
        }
      ]
    },
    {
      "cell_type": "code",
      "metadata": {
        "id": "6ga8NTqrPzhq"
      },
      "source": [
        "def reduce_test():\n",
        "\n",
        "  if  == 2:\n",
        "    print(True)\n",
        "  else:\n",
        "    return(\"Error @ # 3.1\")\n",
        "  if  == 3:\n",
        "    print(True)\n",
        "  else:\n",
        "    return(\"Error @ # 3.2\")\n",
        "  #if  == 4:\n",
        "   # print(True)\n",
        "  #else:\n",
        "   # return(\"Error @ # 3.3\")\n",
        "  #if  == 5:\n",
        "  #  print(True)\n",
        "  #else:\n",
        "   # return(\"Error @ # 3.4\")\n",
        "\n",
        "\n",
        "  \n",
        "ncols_test()"
      ],
      "execution_count": null,
      "outputs": []
    }
  ]
}